{
  "cells": [
    {
      "cell_type": "code",
      "execution_count": 2,
      "metadata": {},
      "outputs": [
        {
          "name": "stdout",
          "output_type": "stream",
          "text": [
            "Hello world!\n"
          ]
        }
      ],
      "source": [
        "p = \"Hello world!\"\n",
        "print(p)"
      ]
    },
    {
      "cell_type": "markdown",
      "metadata": {
        "id": "CSUnAs_Z0KXu"
      },
      "source": [
        "# Setup"
      ]
    },
    {
      "cell_type": "code",
      "execution_count": 3,
      "metadata": {
        "colab": {
          "base_uri": "https://localhost:8080/"
        },
        "id": "Ctj_N9J9-qmM",
        "outputId": "30dbfa4f-995b-460d-f9c6-510e0a3bb154"
      },
      "outputs": [
        {
          "name": "stdout",
          "output_type": "stream",
          "text": [
            "Requirement already satisfied: kaleido==0.1.0 in c:\\users\\parti\\anaconda3\\lib\\site-packages (0.1.0)\n",
            "Requirement already satisfied: py-markdown-table in c:\\users\\parti\\anaconda3\\lib\\site-packages (0.3.3)\n",
            "Requirement already satisfied: mdutils in c:\\users\\parti\\anaconda3\\lib\\site-packages (1.4.0)\n",
            "Dependencies loaded with no problems.\n"
          ]
        }
      ],
      "source": [
        "# Dependencies\n",
        "import pandas as pd\n",
        "import regex as re\n",
        "import numpy as np\n",
        "import openpyxl\n",
        "from collections import defaultdict\n",
        "import plotly\n",
        "import plotly.graph_objects as go\n",
        "from plotly.subplots import make_subplots\n",
        "import plotly.express as px\n",
        "import plotly.io as pio\n",
        "!pip install kaleido==0.1.0\n",
        "import kaleido\n",
        "# print(plotly.__version__, kaleido.__version__)\n",
        "!pip install py-markdown-table\n",
        "from markdownTable import markdownTable\n",
        "!pip install mdutils\n",
        "from mdutils.mdutils import MdUtils\n",
        "from mdutils import Html\n",
        "\n",
        "from IPython.display import display\n",
        "\n",
        "# from google.colab import files\n",
        "# %load_ext google.colab.data_table\n",
        "\n",
        "print(\"Dependencies loaded with no problems.\")"
      ]
    },
    {
      "cell_type": "markdown",
      "metadata": {},
      "source": [
        "## Functions & Code dump"
      ]
    },
    {
      "cell_type": "code",
      "execution_count": 4,
      "metadata": {
        "id": "u6GrfhYT917H"
      },
      "outputs": [],
      "source": [
        "#Functions\n",
        "\n",
        "#Roman numerals\n",
        "def roman(num: int) -> str:\n",
        "\n",
        "    chlist = \"VXLCDM\"\n",
        "    rev = [int(ch) for ch in reversed(str(num))]\n",
        "    chlist = [\"I\"] + [chlist[i % len(chlist)] + \"\\u0304\" * (i // len(chlist))\n",
        "                    for i in range(0, len(rev) * 2)]\n",
        "\n",
        "    def period(p: int, ten: str, five: str, one: str) -> str:\n",
        "        if p == 9:\n",
        "            return one + ten\n",
        "        elif p >= 5:\n",
        "            return five + one * (p - 5)\n",
        "        elif p == 4:\n",
        "            return one + five\n",
        "        else:\n",
        "            return one * p\n",
        "\n",
        "    return \"\".join(reversed([period(rev[i], chlist[i * 2 + 2], chlist[i * 2 + 1], chlist[i * 2])\n",
        "                            for i in range(0, len(rev))]))\n",
        "\n",
        "def century(year):\n",
        "    return (year) // 100 + 1 \n",
        "\n",
        "# Variables\n",
        "# https://en.wikibooks.org/wiki/LaTeX/Colors\n",
        "PolyU='#8f1329'\n",
        "MidnightBlue='#006795'\n",
        "\n",
        "#Prism colors:\n",
        "ppurple = '#5f4690' #'rgb(95, 70, 144)'\n",
        "pblue = '#1d6996' #'rgb(29, 105, 150)'\n",
        "pturquiose = '#38a6a5' #'rgb(56, 166, 165)'\n",
        "pgreen = '#0f8554' #'rgb(15, 133, 84)'\n",
        "plime = '#73af48' #'rgb(115, 175, 72)'\n",
        "pyellow = '#edad08' #'rgb(237, 173, 8)'\n",
        "porange = '#e17c05' #'rgb(225, 124, 5)'\n",
        "pred = '#cc503e' #'rgb(204, 80, 62)'\n",
        "pmagenta = '#94346e' #'rgb(148, 52, 110)'\n",
        "pfuchsia = '#6f4070' #'rgb(111, 64, 112)'\n",
        "pgray = '#808080' #'rgb(128,128,128)' #'rgb(102, 102, 102)'\n",
        "\n",
        "p1=ppurple\n",
        "p2=pblue\n",
        "p3=pturquiose\n",
        "p4=pgreen\n",
        "p5=plime\n",
        "p6=pyellow\n",
        "p7=porange\n",
        "p8=pred \n",
        "p9=pmagenta\n",
        "p10=pfuchsia\n",
        "p11=pgray\n",
        "p12='black'\n",
        "\n",
        "half_transparent = 'rgba(255,255,255,0.5)'\n",
        "transparent = 'rgba(255,255,255,0)'\n",
        "PRISM = [p1,p2,p3,p4,p5,p6,p7,p8,p9,p10,p11,p12]\n",
        "\n",
        "antique = px.colors.qualitative.Antique\n",
        "bold = px.colors.qualitative.Bold\n",
        "pastel = px.colors.qualitative.Pastel\n",
        "prism = px.colors.qualitative.Prism\n",
        "safe = px.colors.qualitative.Safe\n",
        "vivid = px.colors.qualitative.Vivid\n",
        "\n",
        "pio.templates[\"prism\"] = go.layout.Template(layout=go.Layout(colorway=prism))\n",
        "pio.templates[\"family\"] = go.layout.Template(layout=go.Layout(colorway=[p1,p3,p5,p7,p9]))\n",
        "pio.templates[\"trilingual\"] = go.layout.Template(layout=go.Layout(colorway=[p2,p4,p6]))\n",
        "pio.templates[\"yesmaybeno\"] = go.layout.Template(layout=go.Layout(colorway=[p2,p11,p8]))\n",
        "pio.templates[\"yesnomaybe\"] = go.layout.Template(layout=go.Layout(colorway=[p2,p6,p11]))\n",
        "pio.templates[\"top5\"] = go.layout.Template(layout=go.Layout(colorway=[p1,p2,p3,p4,p5,p11,p6,p7,p8,p9,p10]))\n",
        "\n",
        "draft_template = go.layout.Template()\n",
        "draft_template.layout.annotations = [\n",
        "    dict(\n",
        "        name=\"draft watermark\",\n",
        "        text=\"DRAFT\",\n",
        "        textangle=-30,\n",
        "        opacity=0.1,\n",
        "        font=dict(color=\"black\", size=120),\n",
        "        xref=\"paper\",\n",
        "        yref=\"paper\",\n",
        "        x=0.5,\n",
        "        y=0.5,\n",
        "        showarrow=False,)]\n",
        "    \n",
        "# fig.update_layout(template=draft_template)\n",
        "\n",
        "# pio.templates.default = 'prism'\n",
        "\n",
        "\n",
        "# Plotly code dump\n",
        "\n",
        "# Draft template\n",
        "# draft_template = go.layout.Template()\n",
        "# draft_template.layout.annotations = [\n",
        "#     dict(\n",
        "#         name=\"draft watermark\",\n",
        "#         text=\"DRAFT\",\n",
        "#         textangle=-30,\n",
        "#         opacity=0.1,\n",
        "#         font=dict(color=\"black\", size=120),\n",
        "#         xref=\"paper\",\n",
        "#         yref=\"paper\",\n",
        "#         x=0.5,\n",
        "#         y=0.5,\n",
        "#         showarrow=False,)]\n",
        "    \n",
        "# fig.update_layout(template=draft_template)\n",
        "\n",
        "\n",
        "\n",
        "# fig.add_annotation(\n",
        "#     xref = \"paper\", yref = \"paper\",\n",
        "#     x=1, y=0, #x=1\n",
        "#     xanchor=\"left\", yanchor=\"top\", align=\"center\",\n",
        "#     text=\"© Parti Gábor, 2022\",\n",
        "#     font={\"color\": \"gainsboro\", \"size\": 8, \"family\": font_family},\n",
        "#     showarrow=False)\n",
        "\n",
        "# # add images\n",
        "# fig.add_layout_image(\n",
        "#     source=\"https://upload.wikimedia.org/wikipedia/en/thumb/9/9e/PolyU_Logo_with_wordmark.svg/1024px-PolyU_Logo_with_wordmark.svg.png\",\n",
        "#     sizex=0.1, sizey=0.1,\n",
        "#     # source=\"https://upload.wikimedia.org/wikipedia/en/thumb/5/52/PolyU.svg/759px-PolyU.svg.png\",\n",
        "#     # sizex=0.15, sizey=0.15,\n",
        "#     x=1, y=0, \n",
        "#     xanchor=\"left\", yanchor=\"bottom\", \n",
        "# )\n",
        "\n",
        "\n",
        "# for template in [\"plotly\", \"plotly_white\", \"plotly_dark\", \"ggplot2\", \"seaborn\", \"simple_white\", \"none\"]:\n",
        "#     fig = px.scatter(df, x=\"year\", y=\"id\", color=\"class\",\n",
        "#                     #  log_x=True, size_max=60,\n",
        "#                      template=template)"
      ]
    },
    {
      "cell_type": "markdown",
      "metadata": {
        "id": "mGw8biEkZbJK"
      },
      "source": [
        "## Run"
      ]
    },
    {
      "cell_type": "code",
      "execution_count": 5,
      "metadata": {
        "id": "k2GeQCAOZdLG"
      },
      "outputs": [],
      "source": [
        "# spiceboxes()\n",
        "# etymboxes()\n",
        "# tables()"
      ]
    },
    {
      "cell_type": "markdown",
      "metadata": {
        "id": "WPnmM4dKXXgo"
      },
      "source": [
        "# Data"
      ]
    },
    {
      "cell_type": "markdown",
      "metadata": {
        "id": "E8fJF44_g0hC"
      },
      "source": [
        "## Create spice data"
      ]
    },
    {
      "cell_type": "code",
      "execution_count": 6,
      "metadata": {
        "colab": {
          "base_uri": "https://localhost:8080/"
        },
        "id": "xp1maufDg0hK",
        "outputId": "e53fd80e-340c-4467-83c9-2fc598f52a2f"
      },
      "outputs": [
        {
          "name": "stdout",
          "output_type": "stream",
          "text": [
            "List of spices: ['allspice', 'anise', 'asafoetida', 'caraway', 'cardamom', 'cassia', 'chile', 'cinnamon', 'clove', 'coriander', 'cumin', 'dill', 'fennel', 'fenugreek', 'ginger', 'long pepper', 'mace', 'nutmeg', 'pepper', 'saffron', 'Sichuan pepper', 'star anise', 'turmeric', 'vanilla'] \n",
            " 24 spices in total.\n"
          ]
        }
      ],
      "source": [
        "# Path\n",
        "path=\"../data/\"\n",
        "\n",
        "# Read and store content of an excel file \n",
        "read_file = pd.read_excel(path+\"spices.xlsx\")\n",
        "\n",
        "# Write the object into csv file\n",
        "read_file.to_csv (path+\"spices.csv\", index = None, header=True)\n",
        "\n",
        "# Load in dataset of spices as a dataframe\n",
        "df_spices=pd.read_csv(path+'spices.csv', header =[0], delimiter=',', encoding=\"utf-8\")\n",
        "\n",
        "# Limit the list if ids\n",
        "every_spice = df_spices['id'].tolist()[:24]\n",
        "print(\"List of spices:\", every_spice, \"\\n\", len(every_spice), \"spices in total.\")"
      ]
    },
    {
      "cell_type": "markdown",
      "metadata": {},
      "source": [
        "### Spice box (Markdown)"
      ]
    },
    {
      "cell_type": "code",
      "execution_count": 28,
      "metadata": {},
      "outputs": [],
      "source": [
        "# Choose a spice (using id)\n",
        "key = \"anise\"\n",
        "\n",
        "# Dataframe of current item \n",
        "df_local = df_spices.loc[df_spices['id'] == key]\n",
        "# Reset\n",
        "df_local.reset_index(inplace=True)\n",
        "# Extract category for later\n",
        "category = df_local['class'][0]\n",
        "# Narrow down info by selecting columns\n",
        "selectlist = ['include', 'id', 'class', 'species', 'species by', 'POWO', 'family', 'plant part used', 'region of origin','macroarea', 'cultivation', 'color', 'English', 'Chinese', 'Arabic', 'Hungarian']\n",
        "df_local = df_local[selectlist]\n",
        "# Merge species name\n",
        "df_local.species = \"*\" + df_local['species'] + \"* \" + df_local['species by']\n",
        "# Prepare overview tables\n",
        "df_ov = df_local[['species', 'family']]\n",
        "# Transpose table\n",
        "df_ov = df_ov.T\n",
        "# Reset index\n",
        "df_ov.reset_index(inplace=True)\n",
        "# Rename columns\n",
        "df_ov.columns = ['id', key]\n",
        "# Def header\n",
        "preamble = '---\\ntitle: ' + key.title() + '\\nweight: 1\\n# bookFlatSection: false\\n# bookToc: true\\n# bookHidden: false\\n# bookCollapseSection: false\\n# bookComments: false\\n# bookSearchExclude: false\\n# series: [' + category.title() + ']\\n---\\n'\n",
        "# Title and header\n",
        "head = \"# \" + key.title() + \"\\n\" + \"## Overview\" + \"\\n\"\n",
        "# Prepare data to create markdown table\n",
        "data = df_ov.to_dict(orient='records')\n",
        "# Create markdown table\n",
        "mdt = markdownTable(data).setParams(row_sep = 'markdown', quote = False).getMarkdown()\n",
        "\n",
        "# Path to the right place\n",
        "path = \"../code/\"\n",
        "# Def filename\n",
        "filename = re.sub(\" \", \"-\", key)\n",
        "# Write md file\n",
        "with open(path + filename + '.md', 'w', encoding='utf-8') as f:\n",
        "    f.write(preamble + '\\n' + head + '\\n' + mdt)\n"
      ]
    },
    {
      "cell_type": "code",
      "execution_count": 36,
      "metadata": {},
      "outputs": [],
      "source": [
        "def spicify(key):\n",
        "    # Dataframe of current item \n",
        "    df_local = df_spices.loc[df_spices['id'] == key]\n",
        "    # Reset\n",
        "    df_local.reset_index(inplace=True)\n",
        "    # Extract category for later\n",
        "    category = df_local['class'][0]\n",
        "    # Narrow down info by selecting columns\n",
        "    selectlist = ['include', 'id', 'class', 'species', 'species by', 'POWO', 'family', 'plant part used', 'region of origin','macroarea', 'cultivation', 'color', 'English', 'Chinese', 'Arabic', 'Hungarian']\n",
        "    df_local = df_local[selectlist]\n",
        "    # Merge species name\n",
        "    df_local.species = \"*\" + df_local['species'] + \"* \" + df_local['species by']\n",
        "    # Prepare overview tables\n",
        "    df_ov = df_local[['species', 'family']]\n",
        "    # Transpose table\n",
        "    df_ov = df_ov.T\n",
        "    # Reset index\n",
        "    df_ov.reset_index(inplace=True)\n",
        "    # Rename columns\n",
        "    df_ov.columns = ['id', key]\n",
        "    # Def header\n",
        "    preamble = '---\\ntitle: ' + key.title() + '\\nweight: 1\\n# bookFlatSection: false\\n# bookToc: true\\n# bookHidden: false\\n# bookCollapseSection: false\\n# bookComments: false\\n# bookSearchExclude: false\\n# series: [' + category.title() + ']\\n---\\n'\n",
        "    # Title and header\n",
        "    head = \"# \" + key.title() + \"\\n\" + \"## Overview\" + \"\\n\"\n",
        "    # Prepare data to create markdown table\n",
        "    data = df_ov.to_dict(orient='records')\n",
        "    # Create markdown table\n",
        "    mdt = markdownTable(data).setParams(row_sep = 'markdown', quote = False).getMarkdown()\n",
        "\n",
        "    # Path to the right place\n",
        "    path=\"../content/docs/spices/\"\n",
        "    # Def filename\n",
        "    filename = re.sub(\" \", \"-\", key)\n",
        "    # Write md file\n",
        "    with open(path + filename + '.md', 'w', encoding='utf-8') as f:\n",
        "        f.write(preamble + '\\n' + head + '\\n' + mdt)\n",
        "    return "
      ]
    },
    {
      "cell_type": "code",
      "execution_count": 37,
      "metadata": {},
      "outputs": [],
      "source": [
        "# Choose a spice (using id)\n",
        "for key in every_spice:\n",
        "    spicify(key)"
      ]
    },
    {
      "cell_type": "code",
      "execution_count": null,
      "metadata": {},
      "outputs": [],
      "source": [
        "# This package creates MD files using python, but inserts a header I cannot rewrite to add the Hugo header\n",
        "# mdFile = MdUtils(file_name=key, title=key.title())\n",
        "# mdFile.new_header(level=1, title='Overview')  # style is set 'atx' format by default.\n",
        "# mdFile.new_paragraph(header)\n",
        "# mdFile.new_paragraph(md)\n",
        "# mdFile.create_md_file()\n"
      ]
    }
  ],
  "metadata": {
    "colab": {
      "collapsed_sections": [
        "a5QgbBnYb0D4",
        "ShZ_AFalJgmS",
        "gKoLBBYOXKRy",
        "JZ2Hyiio8i2R",
        "B6BOdsdA939E"
      ],
      "provenance": [],
      "toc_visible": true
    },
    "kernelspec": {
      "display_name": "Python 3.9.12 ('base')",
      "language": "python",
      "name": "python3"
    },
    "language_info": {
      "codemirror_mode": {
        "name": "ipython",
        "version": 3
      },
      "file_extension": ".py",
      "mimetype": "text/x-python",
      "name": "python",
      "nbconvert_exporter": "python",
      "pygments_lexer": "ipython3",
      "version": "3.9.12"
    },
    "vscode": {
      "interpreter": {
        "hash": "18c4d285bf73f8d33795481156cb8e20c5329867a6af52097d4f49f8abbf9900"
      }
    }
  },
  "nbformat": 4,
  "nbformat_minor": 0
}
